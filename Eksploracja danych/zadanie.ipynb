{
 "cells": [
  {
   "cell_type": "code",
   "execution_count": 24,
   "metadata": {},
   "outputs": [],
   "source": [
    "import pandas as pd\n",
    "import pandas as pd\n",
    "import datetime\n",
    "from os import listdir\n",
    "from os.path import isfile, join\n",
    "import glob\n",
    "import re\n",
    "import openpyxl\n",
    "songs = pd.read_csv(\"songs.csv\")\n",
    "ranks = pd.read_csv(\"songs-ranks.csv\")\n"
   ]
  },
  {
   "cell_type": "code",
   "execution_count": 25,
   "metadata": {},
   "outputs": [
    {
     "data": {
      "text/html": [
       "<div>\n",
       "<style scoped>\n",
       "    .dataframe tbody tr th:only-of-type {\n",
       "        vertical-align: middle;\n",
       "    }\n",
       "\n",
       "    .dataframe tbody tr th {\n",
       "        vertical-align: top;\n",
       "    }\n",
       "\n",
       "    .dataframe thead th {\n",
       "        text-align: right;\n",
       "    }\n",
       "</style>\n",
       "<table border=\"1\" class=\"dataframe\">\n",
       "  <thead>\n",
       "    <tr style=\"text-align: right;\">\n",
       "      <th></th>\n",
       "      <th>year</th>\n",
       "      <th>artist.inverted</th>\n",
       "      <th>track</th>\n",
       "      <th>time</th>\n",
       "      <th>genre</th>\n",
       "      <th>song_id</th>\n",
       "    </tr>\n",
       "  </thead>\n",
       "  <tbody>\n",
       "    <tr>\n",
       "      <th>0</th>\n",
       "      <td>2000</td>\n",
       "      <td>2 Pac</td>\n",
       "      <td>Baby Don't Cry (Keep Ya Head Up II)</td>\n",
       "      <td>4:22</td>\n",
       "      <td>Rap</td>\n",
       "      <td>0</td>\n",
       "    </tr>\n",
       "    <tr>\n",
       "      <th>1</th>\n",
       "      <td>2000</td>\n",
       "      <td>2Ge+her</td>\n",
       "      <td>The Hardest Part Of Breaking Up (Is Getting Ba...</td>\n",
       "      <td>3:15</td>\n",
       "      <td>R&amp;B</td>\n",
       "      <td>1</td>\n",
       "    </tr>\n",
       "    <tr>\n",
       "      <th>2</th>\n",
       "      <td>2000</td>\n",
       "      <td>3 Doors Down</td>\n",
       "      <td>Kryptonite</td>\n",
       "      <td>3:53</td>\n",
       "      <td>Rock</td>\n",
       "      <td>2</td>\n",
       "    </tr>\n",
       "    <tr>\n",
       "      <th>3</th>\n",
       "      <td>2000</td>\n",
       "      <td>3 Doors Down</td>\n",
       "      <td>Loser</td>\n",
       "      <td>4:24</td>\n",
       "      <td>Rock</td>\n",
       "      <td>3</td>\n",
       "    </tr>\n",
       "    <tr>\n",
       "      <th>4</th>\n",
       "      <td>2000</td>\n",
       "      <td>504 Boyz</td>\n",
       "      <td>Wobble Wobble</td>\n",
       "      <td>3:35</td>\n",
       "      <td>Rap</td>\n",
       "      <td>4</td>\n",
       "    </tr>\n",
       "    <tr>\n",
       "      <th>5</th>\n",
       "      <td>2000</td>\n",
       "      <td>98°</td>\n",
       "      <td>Give Me Just One Night (Una Noche)</td>\n",
       "      <td>3:24</td>\n",
       "      <td>Rock</td>\n",
       "      <td>5</td>\n",
       "    </tr>\n",
       "    <tr>\n",
       "      <th>6</th>\n",
       "      <td>2000</td>\n",
       "      <td>A*Teens</td>\n",
       "      <td>Dancing Queen</td>\n",
       "      <td>3:44</td>\n",
       "      <td>Pop</td>\n",
       "      <td>6</td>\n",
       "    </tr>\n",
       "    <tr>\n",
       "      <th>7</th>\n",
       "      <td>2000</td>\n",
       "      <td>Aaliyah</td>\n",
       "      <td>I Don't Wanna</td>\n",
       "      <td>4:15</td>\n",
       "      <td>Rock</td>\n",
       "      <td>7</td>\n",
       "    </tr>\n",
       "    <tr>\n",
       "      <th>8</th>\n",
       "      <td>2000</td>\n",
       "      <td>Aaliyah</td>\n",
       "      <td>Try Again</td>\n",
       "      <td>4:03</td>\n",
       "      <td>Rock</td>\n",
       "      <td>8</td>\n",
       "    </tr>\n",
       "    <tr>\n",
       "      <th>9</th>\n",
       "      <td>2000</td>\n",
       "      <td>Adams, Yolanda</td>\n",
       "      <td>Open My Heart</td>\n",
       "      <td>5:30</td>\n",
       "      <td>Gospel</td>\n",
       "      <td>9</td>\n",
       "    </tr>\n",
       "  </tbody>\n",
       "</table>\n",
       "</div>"
      ],
      "text/plain": [
       "   year artist.inverted                                              track  \\\n",
       "0  2000           2 Pac                Baby Don't Cry (Keep Ya Head Up II)   \n",
       "1  2000         2Ge+her  The Hardest Part Of Breaking Up (Is Getting Ba...   \n",
       "2  2000    3 Doors Down                                         Kryptonite   \n",
       "3  2000    3 Doors Down                                              Loser   \n",
       "4  2000        504 Boyz                                      Wobble Wobble   \n",
       "5  2000             98°                 Give Me Just One Night (Una Noche)   \n",
       "6  2000         A*Teens                                      Dancing Queen   \n",
       "7  2000         Aaliyah                                      I Don't Wanna   \n",
       "8  2000         Aaliyah                                          Try Again   \n",
       "9  2000  Adams, Yolanda                                      Open My Heart   \n",
       "\n",
       "   time   genre  song_id  \n",
       "0  4:22     Rap        0  \n",
       "1  3:15     R&B        1  \n",
       "2  3:53    Rock        2  \n",
       "3  4:24    Rock        3  \n",
       "4  3:35     Rap        4  \n",
       "5  3:24    Rock        5  \n",
       "6  3:44     Pop        6  \n",
       "7  4:15    Rock        7  \n",
       "8  4:03    Rock        8  \n",
       "9  5:30  Gospel        9  "
      ]
     },
     "execution_count": 25,
     "metadata": {},
     "output_type": "execute_result"
    }
   ],
   "source": [
    "songs.head(10)"
   ]
  },
  {
   "cell_type": "code",
   "execution_count": 26,
   "metadata": {},
   "outputs": [
    {
     "data": {
      "text/html": [
       "<div>\n",
       "<style scoped>\n",
       "    .dataframe tbody tr th:only-of-type {\n",
       "        vertical-align: middle;\n",
       "    }\n",
       "\n",
       "    .dataframe tbody tr th {\n",
       "        vertical-align: top;\n",
       "    }\n",
       "\n",
       "    .dataframe thead th {\n",
       "        text-align: right;\n",
       "    }\n",
       "</style>\n",
       "<table border=\"1\" class=\"dataframe\">\n",
       "  <thead>\n",
       "    <tr style=\"text-align: right;\">\n",
       "      <th></th>\n",
       "      <th>song_id</th>\n",
       "      <th>date</th>\n",
       "      <th>rank</th>\n",
       "    </tr>\n",
       "  </thead>\n",
       "  <tbody>\n",
       "    <tr>\n",
       "      <th>0</th>\n",
       "      <td>0</td>\n",
       "      <td>2000-02-26</td>\n",
       "      <td>87</td>\n",
       "    </tr>\n",
       "    <tr>\n",
       "      <th>1</th>\n",
       "      <td>0</td>\n",
       "      <td>2000-03-04</td>\n",
       "      <td>82</td>\n",
       "    </tr>\n",
       "    <tr>\n",
       "      <th>2</th>\n",
       "      <td>0</td>\n",
       "      <td>2000-03-11</td>\n",
       "      <td>72</td>\n",
       "    </tr>\n",
       "    <tr>\n",
       "      <th>3</th>\n",
       "      <td>0</td>\n",
       "      <td>2000-03-18</td>\n",
       "      <td>77</td>\n",
       "    </tr>\n",
       "    <tr>\n",
       "      <th>4</th>\n",
       "      <td>0</td>\n",
       "      <td>2000-03-25</td>\n",
       "      <td>87</td>\n",
       "    </tr>\n",
       "    <tr>\n",
       "      <th>5</th>\n",
       "      <td>0</td>\n",
       "      <td>2000-04-01</td>\n",
       "      <td>94</td>\n",
       "    </tr>\n",
       "    <tr>\n",
       "      <th>6</th>\n",
       "      <td>0</td>\n",
       "      <td>2000-04-08</td>\n",
       "      <td>99</td>\n",
       "    </tr>\n",
       "    <tr>\n",
       "      <th>7</th>\n",
       "      <td>1</td>\n",
       "      <td>2000-09-02</td>\n",
       "      <td>91</td>\n",
       "    </tr>\n",
       "    <tr>\n",
       "      <th>8</th>\n",
       "      <td>1</td>\n",
       "      <td>2000-09-09</td>\n",
       "      <td>87</td>\n",
       "    </tr>\n",
       "    <tr>\n",
       "      <th>9</th>\n",
       "      <td>1</td>\n",
       "      <td>2000-09-16</td>\n",
       "      <td>92</td>\n",
       "    </tr>\n",
       "  </tbody>\n",
       "</table>\n",
       "</div>"
      ],
      "text/plain": [
       "   song_id        date  rank\n",
       "0        0  2000-02-26    87\n",
       "1        0  2000-03-04    82\n",
       "2        0  2000-03-11    72\n",
       "3        0  2000-03-18    77\n",
       "4        0  2000-03-25    87\n",
       "5        0  2000-04-01    94\n",
       "6        0  2000-04-08    99\n",
       "7        1  2000-09-02    91\n",
       "8        1  2000-09-09    87\n",
       "9        1  2000-09-16    92"
      ]
     },
     "execution_count": 26,
     "metadata": {},
     "output_type": "execute_result"
    }
   ],
   "source": [
    "ranks.head(10)"
   ]
  },
  {
   "cell_type": "code",
   "execution_count": 27,
   "metadata": {},
   "outputs": [
    {
     "name": "stdout",
     "output_type": "stream",
     "text": [
      "<class 'pandas.core.frame.DataFrame'>\n",
      "RangeIndex: 317 entries, 0 to 316\n",
      "Data columns (total 6 columns):\n",
      "year               317 non-null int64\n",
      "artist.inverted    317 non-null object\n",
      "track              317 non-null object\n",
      "time               317 non-null object\n",
      "genre              317 non-null object\n",
      "song_id            317 non-null int64\n",
      "dtypes: int64(2), object(4)\n",
      "memory usage: 15.0+ KB\n"
     ]
    }
   ],
   "source": [
    "songs.info()"
   ]
  },
  {
   "cell_type": "code",
   "execution_count": 28,
   "metadata": {},
   "outputs": [
    {
     "name": "stdout",
     "output_type": "stream",
     "text": [
      "<class 'pandas.core.frame.DataFrame'>\n",
      "RangeIndex: 5307 entries, 0 to 5306\n",
      "Data columns (total 3 columns):\n",
      "song_id    5307 non-null int64\n",
      "date       5307 non-null object\n",
      "rank       5307 non-null int64\n",
      "dtypes: int64(2), object(1)\n",
      "memory usage: 124.5+ KB\n"
     ]
    }
   ],
   "source": [
    "ranks.info()"
   ]
  },
  {
   "cell_type": "code",
   "execution_count": 29,
   "metadata": {},
   "outputs": [
    {
     "name": "stdout",
     "output_type": "stream",
     "text": [
      "W pierwszej dzisiątce notowań, najszęściej znajdował się gatunek: \n"
     ]
    },
    {
     "data": {
      "text/plain": [
       "'Rock'"
      ]
     },
     "execution_count": 29,
     "metadata": {},
     "output_type": "execute_result"
    },
    {
     "data": {
      "image/png": "[encoded data removed]",
      "text/plain": [
       "<Figure size 432x288 with 1 Axes>"
      ]
     },
     "metadata": {
      "needs_background": "light"
     },
     "output_type": "display_data"
    }
   ],
   "source": [
    "#Określ który z gatunków muzyki znajdował się najczęściej w pierwszej 10 notowań?\n",
    "#merge ranks oraz songs\n",
    "result = pd.merge(ranks,\n",
    "                 songs[['song_id', 'genre']],\n",
    "                 on='song_id')\n",
    "#Wydzielenie wyników które znajdują się w pierwszej dzisiątce\n",
    "result = result.loc[result['rank'] < 11]\n",
    "#Pogrupowanie po gatunkach\n",
    "result = result.groupby(['genre']).size().reset_index(name='counts')\n",
    "#wizualizacja wyników\n",
    "result.plot(x='genre', y='counts', marker='.')\n",
    "result = result.sort_values(['counts'], ascending=[False])\n",
    "print(\"W pierwszej dzisiątce notowań, najszęściej znajdował się gatunek: \")\n",
    "result['genre'].iloc[0]"
   ]
  },
  {
   "cell_type": "code",
   "execution_count": 30,
   "metadata": {},
   "outputs": [
    {
     "name": "stdout",
     "output_type": "stream",
     "text": [
      "W pierwszej dzisiątce notowań, najszęściej znajdowały się utwpry o długości: \n"
     ]
    },
    {
     "data": {
      "text/plain": [
       "'3:52'"
      ]
     },
     "execution_count": 30,
     "metadata": {},
     "output_type": "execute_result"
    },
    {
     "data": {
      "image/png": "[encoded data removed]",
      "text/plain": [
       "<Figure size 432x288 with 1 Axes>"
      ]
     },
     "metadata": {
      "needs_background": "light"
     },
     "output_type": "display_data"
    }
   ],
   "source": [
    "#Sprawdź która grupa najczęściej zdobywała miejsce w pierwszej 10 a jaka w ostatniej\n",
    "#merge ranks oraz songs\n",
    "duration = pd.merge(ranks,\n",
    "                 songs[['song_id', 'time']],\n",
    "                 on='song_id')\n",
    "#Wydzielenie wyników które znajdują się w pierwszej dzisiątce\n",
    "duration = duration.loc[duration['rank'] < 11]\n",
    "#Pogrupowanie po dlugości utworu\n",
    "duration = duration.groupby(['time']).size().reset_index(name='counts')\n",
    "#wizualizacja wyników\n",
    "duration.plot(x='time', y='counts', marker='.')\n",
    "duration = duration.sort_values(['counts'], ascending=[False])\n",
    "print(\"W pierwszej dzisiątce notowań, najszęściej znajdowały się utwpry o długości: \")\n",
    "duration['time'].iloc[0]"
   ]
  },
  {
   "cell_type": "code",
   "execution_count": 31,
   "metadata": {},
   "outputs": [
    {
     "name": "stdout",
     "output_type": "stream",
     "text": [
      "W ostatniej dzisiątce notowań, najszęściej znajdowały się utwpry o długości: \n"
     ]
    },
    {
     "data": {
      "text/plain": [
       "'3:44'"
      ]
     },
     "execution_count": 31,
     "metadata": {},
     "output_type": "execute_result"
    },
    {
     "data": {
      "image/png": "[encoded data removed]",
      "text/plain": [
       "<Figure size 432x288 with 1 Axes>"
      ]
     },
     "metadata": {
      "needs_background": "light"
     },
     "output_type": "display_data"
    }
   ],
   "source": [
    "#Sprawdź która grupa najczęściej zdobywała miejsce w pierwszej 10 a jaka w ostatniej\n",
    "#merge ranks oraz songs\n",
    "duration = pd.merge(ranks,\n",
    "                 songs[['song_id', 'time']],\n",
    "                 on='song_id')\n",
    "#Wydzielenie wyników które znajdują się w ostatniej dzisiątce\n",
    "duration = duration.loc[duration['rank'] > 89]\n",
    "#Pogrupowanie po dlugości utworu\n",
    "duration = duration.groupby(['time']).size().reset_index(name='counts')\n",
    "#wizualizacja wyników\n",
    "duration.plot(x='time', y='counts', marker='.')\n",
    "duration = duration.sort_values(['counts'], ascending=[False])\n",
    "print(\"W ostatniej dzisiątce notowań, najszęściej znajdowały się utwpry o długości: \")\n",
    "duration['time'].iloc[0]"
   ]
  },
  {
   "cell_type": "code",
   "execution_count": null,
   "metadata": {},
   "outputs": [],
   "source": []
  }
 ],
 "metadata": {
  "kernelspec": {
   "display_name": "Python 3",
   "language": "python",
   "name": "python3"
  },
  "language_info": {
   "codemirror_mode": {
    "name": "ipython",
    "version": 3
   },
   "file_extension": ".py",
   "mimetype": "text/x-python",
   "name": "python",
   "nbconvert_exporter": "python",
   "pygments_lexer": "ipython3",
   "version": "3.7.4"
  }
 },
 "nbformat": 4,
 "nbformat_minor": 4
}
